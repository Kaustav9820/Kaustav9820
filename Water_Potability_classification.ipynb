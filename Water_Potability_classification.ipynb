{
  "nbformat": 4,
  "nbformat_minor": 0,
  "metadata": {
    "colab": {
      "name": "Water_Potability_classification",
      "provenance": [],
      "authorship_tag": "ABX9TyNDCSiNXg9JClvLP9ob6Xff",
      "include_colab_link": true
    },
    "kernelspec": {
      "name": "python3",
      "display_name": "Python 3"
    },
    "language_info": {
      "name": "python"
    }
  },
  "cells": [
    {
      "cell_type": "markdown",
      "metadata": {
        "id": "view-in-github",
        "colab_type": "text"
      },
      "source": [
        "<a href=\"https://colab.research.google.com/github/Kaustav9820/Kaustav9820/blob/main/Water_Potability_classification.ipynb\" target=\"_parent\"><img src=\"https://colab.research.google.com/assets/colab-badge.svg\" alt=\"Open In Colab\"/></a>"
      ]
    },
    {
      "cell_type": "code",
      "metadata": {
        "colab": {
          "resources": {
            "http://localhost:8080/nbextensions/google.colab/files.js": {
              "data": "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",
              "ok": true,
              "headers": [
                [
                  "content-type",
                  "application/javascript"
                ]
              ],
              "status": 200,
              "status_text": ""
            }
          },
          "base_uri": "https://localhost:8080/",
          "height": 144
        },
        "id": "4HL-5ap4pmwk",
        "outputId": "53df399b-b926-4f47-b44f-8217941fa059"
      },
      "source": [
        "from google.colab import files\n",
        " \n",
        "uploaded = files.upload()\n",
        " \n",
        "for fn in uploaded.keys():\n",
        "  print('User uploaded file \"{name}\" with length {length} bytes'.format(\n",
        "      name=fn, length=len(uploaded[fn])))"
      ],
      "execution_count": 1,
      "outputs": [
        {
          "output_type": "display_data",
          "data": {
            "text/html": [
              "\n",
              "     <input type=\"file\" id=\"files-efcd66e9-40ac-473d-aa3e-ad9e128259fb\" name=\"files[]\" multiple disabled\n",
              "        style=\"border:none\" />\n",
              "     <output id=\"result-efcd66e9-40ac-473d-aa3e-ad9e128259fb\">\n",
              "      Upload widget is only available when the cell has been executed in the\n",
              "      current browser session. Please rerun this cell to enable.\n",
              "      </output>\n",
              "      <script src=\"/nbextensions/google.colab/files.js\"></script> "
            ],
            "text/plain": [
              "<IPython.core.display.HTML object>"
            ]
          },
          "metadata": {
            "tags": []
          }
        },
        {
          "output_type": "stream",
          "text": [
            "Saving water_potability.csv to water_potability.csv\n",
            "User uploaded file \"water_potability.csv\" with length 525187 bytes\n"
          ],
          "name": "stdout"
        }
      ]
    },
    {
      "cell_type": "code",
      "metadata": {
        "id": "YsfaEHhhpz-i"
      },
      "source": [
        "import io\n",
        "import pandas as pd\n",
        "import numpy as np\n",
        "import seaborn as sns\n",
        "import matplotlib.pyplot as plt\n",
        "from sklearn.linear_model import LogisticRegression\n",
        "from sklearn.preprocessing import LabelEncoder, MinMaxScaler\n",
        "from sklearn.model_selection import train_test_split"
      ],
      "execution_count": 2,
      "outputs": []
    },
    {
      "cell_type": "code",
      "metadata": {
        "colab": {
          "base_uri": "https://localhost:8080/"
        },
        "id": "qp8eiGHsqbQq",
        "outputId": "702eae01-75c2-4123-badf-7071931edc2a"
      },
      "source": [
        "df=pd.read_csv(io.BytesIO(uploaded ['water_potability.csv']))\n",
        "df.columns"
      ],
      "execution_count": 3,
      "outputs": [
        {
          "output_type": "execute_result",
          "data": {
            "text/plain": [
              "Index(['ph', 'Hardness', 'Solids', 'Chloramines', 'Sulfate', 'Conductivity',\n",
              "       'Organic_carbon', 'Trihalomethanes', 'Turbidity', 'Potability'],\n",
              "      dtype='object')"
            ]
          },
          "metadata": {
            "tags": []
          },
          "execution_count": 3
        }
      ]
    },
    {
      "cell_type": "code",
      "metadata": {
        "colab": {
          "base_uri": "https://localhost:8080/"
        },
        "id": "gAjykbV6quG5",
        "outputId": "b1bddcd2-cc8a-4989-ff8a-c2c29b400da2"
      },
      "source": [
        "df.isnull().sum"
      ],
      "execution_count": 4,
      "outputs": [
        {
          "output_type": "execute_result",
          "data": {
            "text/plain": [
              "<bound method DataFrame.sum of          ph  Hardness  Solids  ...  Trihalomethanes  Turbidity  Potability\n",
              "0      True     False   False  ...            False      False       False\n",
              "1     False     False   False  ...            False      False       False\n",
              "2     False     False   False  ...            False      False       False\n",
              "3     False     False   False  ...            False      False       False\n",
              "4     False     False   False  ...            False      False       False\n",
              "...     ...       ...     ...  ...              ...        ...         ...\n",
              "3271  False     False   False  ...            False      False       False\n",
              "3272  False     False   False  ...             True      False       False\n",
              "3273  False     False   False  ...            False      False       False\n",
              "3274  False     False   False  ...            False      False       False\n",
              "3275  False     False   False  ...            False      False       False\n",
              "\n",
              "[3276 rows x 10 columns]>"
            ]
          },
          "metadata": {
            "tags": []
          },
          "execution_count": 4
        }
      ]
    },
    {
      "cell_type": "code",
      "metadata": {
        "colab": {
          "base_uri": "https://localhost:8080/"
        },
        "id": "E1iXKFjvqwpk",
        "outputId": "f20d8d90-4e42-46f3-f464-99298d45c691"
      },
      "source": [
        "df.shape"
      ],
      "execution_count": 5,
      "outputs": [
        {
          "output_type": "execute_result",
          "data": {
            "text/plain": [
              "(3276, 10)"
            ]
          },
          "metadata": {
            "tags": []
          },
          "execution_count": 5
        }
      ]
    },
    {
      "cell_type": "code",
      "metadata": {
        "colab": {
          "base_uri": "https://localhost:8080/"
        },
        "id": "czjvWzsYq0Yj",
        "outputId": "e2bab930-1655-4a70-e473-2c8ede8056b2"
      },
      "source": [
        "df.dtypes"
      ],
      "execution_count": 6,
      "outputs": [
        {
          "output_type": "execute_result",
          "data": {
            "text/plain": [
              "ph                 float64\n",
              "Hardness           float64\n",
              "Solids             float64\n",
              "Chloramines        float64\n",
              "Sulfate            float64\n",
              "Conductivity       float64\n",
              "Organic_carbon     float64\n",
              "Trihalomethanes    float64\n",
              "Turbidity          float64\n",
              "Potability           int64\n",
              "dtype: object"
            ]
          },
          "metadata": {
            "tags": []
          },
          "execution_count": 6
        }
      ]
    },
    {
      "cell_type": "code",
      "metadata": {
        "colab": {
          "base_uri": "https://localhost:8080/"
        },
        "id": "v7Bu8C-P17zs",
        "outputId": "6b12795f-4042-4ac6-8411-32aaeef7b157"
      },
      "source": [
        "df['Potability']"
      ],
      "execution_count": 7,
      "outputs": [
        {
          "output_type": "execute_result",
          "data": {
            "text/plain": [
              "0       0\n",
              "1       0\n",
              "2       0\n",
              "3       0\n",
              "4       0\n",
              "       ..\n",
              "3271    1\n",
              "3272    1\n",
              "3273    1\n",
              "3274    1\n",
              "3275    1\n",
              "Name: Potability, Length: 3276, dtype: int64"
            ]
          },
          "metadata": {
            "tags": []
          },
          "execution_count": 7
        }
      ]
    },
    {
      "cell_type": "code",
      "metadata": {
        "colab": {
          "base_uri": "https://localhost:8080/",
          "height": 438
        },
        "id": "eXrA5xDxrWuc",
        "outputId": "e4419a4c-2396-4a82-de19-af4242f8376c"
      },
      "source": [
        "se=MinMaxScaler ()\n",
        "df_n=pd.DataFrame(se.fit_transform(df),columns=df.columns)\n",
        "df_n"
      ],
      "execution_count": 8,
      "outputs": [
        {
          "output_type": "execute_result",
          "data": {
            "text/html": [
              "<div>\n",
              "<style scoped>\n",
              "    .dataframe tbody tr th:only-of-type {\n",
              "        vertical-align: middle;\n",
              "    }\n",
              "\n",
              "    .dataframe tbody tr th {\n",
              "        vertical-align: top;\n",
              "    }\n",
              "\n",
              "    .dataframe thead th {\n",
              "        text-align: right;\n",
              "    }\n",
              "</style>\n",
              "<table border=\"1\" class=\"dataframe\">\n",
              "  <thead>\n",
              "    <tr style=\"text-align: right;\">\n",
              "      <th></th>\n",
              "      <th>ph</th>\n",
              "      <th>Hardness</th>\n",
              "      <th>Solids</th>\n",
              "      <th>Chloramines</th>\n",
              "      <th>Sulfate</th>\n",
              "      <th>Conductivity</th>\n",
              "      <th>Organic_carbon</th>\n",
              "      <th>Trihalomethanes</th>\n",
              "      <th>Turbidity</th>\n",
              "      <th>Potability</th>\n",
              "    </tr>\n",
              "  </thead>\n",
              "  <tbody>\n",
              "    <tr>\n",
              "      <th>0</th>\n",
              "      <td>NaN</td>\n",
              "      <td>0.571139</td>\n",
              "      <td>0.336096</td>\n",
              "      <td>0.543891</td>\n",
              "      <td>0.680385</td>\n",
              "      <td>0.669439</td>\n",
              "      <td>0.313402</td>\n",
              "      <td>0.699753</td>\n",
              "      <td>0.286091</td>\n",
              "      <td>0.0</td>\n",
              "    </tr>\n",
              "    <tr>\n",
              "      <th>1</th>\n",
              "      <td>0.265434</td>\n",
              "      <td>0.297400</td>\n",
              "      <td>0.300611</td>\n",
              "      <td>0.491839</td>\n",
              "      <td>NaN</td>\n",
              "      <td>0.719411</td>\n",
              "      <td>0.497319</td>\n",
              "      <td>0.450999</td>\n",
              "      <td>0.576793</td>\n",
              "      <td>0.0</td>\n",
              "    </tr>\n",
              "    <tr>\n",
              "      <th>2</th>\n",
              "      <td>0.578509</td>\n",
              "      <td>0.641311</td>\n",
              "      <td>0.321619</td>\n",
              "      <td>0.698543</td>\n",
              "      <td>NaN</td>\n",
              "      <td>0.414652</td>\n",
              "      <td>0.562017</td>\n",
              "      <td>0.532866</td>\n",
              "      <td>0.303637</td>\n",
              "      <td>0.0</td>\n",
              "    </tr>\n",
              "    <tr>\n",
              "      <th>3</th>\n",
              "      <td>0.594055</td>\n",
              "      <td>0.605536</td>\n",
              "      <td>0.356244</td>\n",
              "      <td>0.603314</td>\n",
              "      <td>0.647347</td>\n",
              "      <td>0.317880</td>\n",
              "      <td>0.622089</td>\n",
              "      <td>0.808065</td>\n",
              "      <td>0.601015</td>\n",
              "      <td>0.0</td>\n",
              "    </tr>\n",
              "    <tr>\n",
              "      <th>4</th>\n",
              "      <td>0.649445</td>\n",
              "      <td>0.484851</td>\n",
              "      <td>0.289922</td>\n",
              "      <td>0.484900</td>\n",
              "      <td>0.514545</td>\n",
              "      <td>0.379337</td>\n",
              "      <td>0.358555</td>\n",
              "      <td>0.253606</td>\n",
              "      <td>0.496327</td>\n",
              "      <td>0.0</td>\n",
              "    </tr>\n",
              "    <tr>\n",
              "      <th>...</th>\n",
              "      <td>...</td>\n",
              "      <td>...</td>\n",
              "      <td>...</td>\n",
              "      <td>...</td>\n",
              "      <td>...</td>\n",
              "      <td>...</td>\n",
              "      <td>...</td>\n",
              "      <td>...</td>\n",
              "      <td>...</td>\n",
              "      <td>...</td>\n",
              "    </tr>\n",
              "    <tr>\n",
              "      <th>3271</th>\n",
              "      <td>0.333436</td>\n",
              "      <td>0.530482</td>\n",
              "      <td>0.775947</td>\n",
              "      <td>0.533436</td>\n",
              "      <td>0.656047</td>\n",
              "      <td>0.603192</td>\n",
              "      <td>0.448062</td>\n",
              "      <td>0.535037</td>\n",
              "      <td>0.564534</td>\n",
              "      <td>1.0</td>\n",
              "    </tr>\n",
              "    <tr>\n",
              "      <th>3272</th>\n",
              "      <td>0.557775</td>\n",
              "      <td>0.530016</td>\n",
              "      <td>0.279263</td>\n",
              "      <td>0.603473</td>\n",
              "      <td>NaN</td>\n",
              "      <td>0.368912</td>\n",
              "      <td>0.678284</td>\n",
              "      <td>NaN</td>\n",
              "      <td>0.254915</td>\n",
              "      <td>1.0</td>\n",
              "    </tr>\n",
              "    <tr>\n",
              "      <th>3273</th>\n",
              "      <td>0.672822</td>\n",
              "      <td>0.465486</td>\n",
              "      <td>0.539101</td>\n",
              "      <td>0.547807</td>\n",
              "      <td>NaN</td>\n",
              "      <td>0.438152</td>\n",
              "      <td>0.338662</td>\n",
              "      <td>0.560655</td>\n",
              "      <td>0.349570</td>\n",
              "      <td>1.0</td>\n",
              "    </tr>\n",
              "    <tr>\n",
              "      <th>3274</th>\n",
              "      <td>0.366197</td>\n",
              "      <td>0.664407</td>\n",
              "      <td>0.191490</td>\n",
              "      <td>0.465860</td>\n",
              "      <td>NaN</td>\n",
              "      <td>0.387157</td>\n",
              "      <td>0.343638</td>\n",
              "      <td>0.622659</td>\n",
              "      <td>0.616120</td>\n",
              "      <td>1.0</td>\n",
              "    </tr>\n",
              "    <tr>\n",
              "      <th>3275</th>\n",
              "      <td>0.562477</td>\n",
              "      <td>0.535635</td>\n",
              "      <td>0.280484</td>\n",
              "      <td>0.560259</td>\n",
              "      <td>NaN</td>\n",
              "      <td>0.255266</td>\n",
              "      <td>0.534114</td>\n",
              "      <td>0.632478</td>\n",
              "      <td>0.162441</td>\n",
              "      <td>1.0</td>\n",
              "    </tr>\n",
              "  </tbody>\n",
              "</table>\n",
              "<p>3276 rows × 10 columns</p>\n",
              "</div>"
            ],
            "text/plain": [
              "            ph  Hardness    Solids  ...  Trihalomethanes  Turbidity  Potability\n",
              "0          NaN  0.571139  0.336096  ...         0.699753   0.286091         0.0\n",
              "1     0.265434  0.297400  0.300611  ...         0.450999   0.576793         0.0\n",
              "2     0.578509  0.641311  0.321619  ...         0.532866   0.303637         0.0\n",
              "3     0.594055  0.605536  0.356244  ...         0.808065   0.601015         0.0\n",
              "4     0.649445  0.484851  0.289922  ...         0.253606   0.496327         0.0\n",
              "...        ...       ...       ...  ...              ...        ...         ...\n",
              "3271  0.333436  0.530482  0.775947  ...         0.535037   0.564534         1.0\n",
              "3272  0.557775  0.530016  0.279263  ...              NaN   0.254915         1.0\n",
              "3273  0.672822  0.465486  0.539101  ...         0.560655   0.349570         1.0\n",
              "3274  0.366197  0.664407  0.191490  ...         0.622659   0.616120         1.0\n",
              "3275  0.562477  0.535635  0.280484  ...         0.632478   0.162441         1.0\n",
              "\n",
              "[3276 rows x 10 columns]"
            ]
          },
          "metadata": {
            "tags": []
          },
          "execution_count": 8
        }
      ]
    },
    {
      "cell_type": "code",
      "metadata": {
        "colab": {
          "base_uri": "https://localhost:8080/",
          "height": 438
        },
        "id": "d71ZtWWIszqi",
        "outputId": "7386950c-35fd-4028-f33f-9f33eba4388d"
      },
      "source": [
        "for i in range(df_n.shape[1]):\n",
        "  df_n.iloc[:,i]=df_n.iloc[:,i].fillna(df.iloc[:,i].median())\n",
        "df_n"
      ],
      "execution_count": 9,
      "outputs": [
        {
          "output_type": "execute_result",
          "data": {
            "text/html": [
              "<div>\n",
              "<style scoped>\n",
              "    .dataframe tbody tr th:only-of-type {\n",
              "        vertical-align: middle;\n",
              "    }\n",
              "\n",
              "    .dataframe tbody tr th {\n",
              "        vertical-align: top;\n",
              "    }\n",
              "\n",
              "    .dataframe thead th {\n",
              "        text-align: right;\n",
              "    }\n",
              "</style>\n",
              "<table border=\"1\" class=\"dataframe\">\n",
              "  <thead>\n",
              "    <tr style=\"text-align: right;\">\n",
              "      <th></th>\n",
              "      <th>ph</th>\n",
              "      <th>Hardness</th>\n",
              "      <th>Solids</th>\n",
              "      <th>Chloramines</th>\n",
              "      <th>Sulfate</th>\n",
              "      <th>Conductivity</th>\n",
              "      <th>Organic_carbon</th>\n",
              "      <th>Trihalomethanes</th>\n",
              "      <th>Turbidity</th>\n",
              "      <th>Potability</th>\n",
              "    </tr>\n",
              "  </thead>\n",
              "  <tbody>\n",
              "    <tr>\n",
              "      <th>0</th>\n",
              "      <td>7.036752</td>\n",
              "      <td>0.571139</td>\n",
              "      <td>0.336096</td>\n",
              "      <td>0.543891</td>\n",
              "      <td>0.680385</td>\n",
              "      <td>0.669439</td>\n",
              "      <td>0.313402</td>\n",
              "      <td>0.699753</td>\n",
              "      <td>0.286091</td>\n",
              "      <td>0.0</td>\n",
              "    </tr>\n",
              "    <tr>\n",
              "      <th>1</th>\n",
              "      <td>0.265434</td>\n",
              "      <td>0.297400</td>\n",
              "      <td>0.300611</td>\n",
              "      <td>0.491839</td>\n",
              "      <td>333.073546</td>\n",
              "      <td>0.719411</td>\n",
              "      <td>0.497319</td>\n",
              "      <td>0.450999</td>\n",
              "      <td>0.576793</td>\n",
              "      <td>0.0</td>\n",
              "    </tr>\n",
              "    <tr>\n",
              "      <th>2</th>\n",
              "      <td>0.578509</td>\n",
              "      <td>0.641311</td>\n",
              "      <td>0.321619</td>\n",
              "      <td>0.698543</td>\n",
              "      <td>333.073546</td>\n",
              "      <td>0.414652</td>\n",
              "      <td>0.562017</td>\n",
              "      <td>0.532866</td>\n",
              "      <td>0.303637</td>\n",
              "      <td>0.0</td>\n",
              "    </tr>\n",
              "    <tr>\n",
              "      <th>3</th>\n",
              "      <td>0.594055</td>\n",
              "      <td>0.605536</td>\n",
              "      <td>0.356244</td>\n",
              "      <td>0.603314</td>\n",
              "      <td>0.647347</td>\n",
              "      <td>0.317880</td>\n",
              "      <td>0.622089</td>\n",
              "      <td>0.808065</td>\n",
              "      <td>0.601015</td>\n",
              "      <td>0.0</td>\n",
              "    </tr>\n",
              "    <tr>\n",
              "      <th>4</th>\n",
              "      <td>0.649445</td>\n",
              "      <td>0.484851</td>\n",
              "      <td>0.289922</td>\n",
              "      <td>0.484900</td>\n",
              "      <td>0.514545</td>\n",
              "      <td>0.379337</td>\n",
              "      <td>0.358555</td>\n",
              "      <td>0.253606</td>\n",
              "      <td>0.496327</td>\n",
              "      <td>0.0</td>\n",
              "    </tr>\n",
              "    <tr>\n",
              "      <th>...</th>\n",
              "      <td>...</td>\n",
              "      <td>...</td>\n",
              "      <td>...</td>\n",
              "      <td>...</td>\n",
              "      <td>...</td>\n",
              "      <td>...</td>\n",
              "      <td>...</td>\n",
              "      <td>...</td>\n",
              "      <td>...</td>\n",
              "      <td>...</td>\n",
              "    </tr>\n",
              "    <tr>\n",
              "      <th>3271</th>\n",
              "      <td>0.333436</td>\n",
              "      <td>0.530482</td>\n",
              "      <td>0.775947</td>\n",
              "      <td>0.533436</td>\n",
              "      <td>0.656047</td>\n",
              "      <td>0.603192</td>\n",
              "      <td>0.448062</td>\n",
              "      <td>0.535037</td>\n",
              "      <td>0.564534</td>\n",
              "      <td>1.0</td>\n",
              "    </tr>\n",
              "    <tr>\n",
              "      <th>3272</th>\n",
              "      <td>0.557775</td>\n",
              "      <td>0.530016</td>\n",
              "      <td>0.279263</td>\n",
              "      <td>0.603473</td>\n",
              "      <td>333.073546</td>\n",
              "      <td>0.368912</td>\n",
              "      <td>0.678284</td>\n",
              "      <td>66.622485</td>\n",
              "      <td>0.254915</td>\n",
              "      <td>1.0</td>\n",
              "    </tr>\n",
              "    <tr>\n",
              "      <th>3273</th>\n",
              "      <td>0.672822</td>\n",
              "      <td>0.465486</td>\n",
              "      <td>0.539101</td>\n",
              "      <td>0.547807</td>\n",
              "      <td>333.073546</td>\n",
              "      <td>0.438152</td>\n",
              "      <td>0.338662</td>\n",
              "      <td>0.560655</td>\n",
              "      <td>0.349570</td>\n",
              "      <td>1.0</td>\n",
              "    </tr>\n",
              "    <tr>\n",
              "      <th>3274</th>\n",
              "      <td>0.366197</td>\n",
              "      <td>0.664407</td>\n",
              "      <td>0.191490</td>\n",
              "      <td>0.465860</td>\n",
              "      <td>333.073546</td>\n",
              "      <td>0.387157</td>\n",
              "      <td>0.343638</td>\n",
              "      <td>0.622659</td>\n",
              "      <td>0.616120</td>\n",
              "      <td>1.0</td>\n",
              "    </tr>\n",
              "    <tr>\n",
              "      <th>3275</th>\n",
              "      <td>0.562477</td>\n",
              "      <td>0.535635</td>\n",
              "      <td>0.280484</td>\n",
              "      <td>0.560259</td>\n",
              "      <td>333.073546</td>\n",
              "      <td>0.255266</td>\n",
              "      <td>0.534114</td>\n",
              "      <td>0.632478</td>\n",
              "      <td>0.162441</td>\n",
              "      <td>1.0</td>\n",
              "    </tr>\n",
              "  </tbody>\n",
              "</table>\n",
              "<p>3276 rows × 10 columns</p>\n",
              "</div>"
            ],
            "text/plain": [
              "            ph  Hardness    Solids  ...  Trihalomethanes  Turbidity  Potability\n",
              "0     7.036752  0.571139  0.336096  ...         0.699753   0.286091         0.0\n",
              "1     0.265434  0.297400  0.300611  ...         0.450999   0.576793         0.0\n",
              "2     0.578509  0.641311  0.321619  ...         0.532866   0.303637         0.0\n",
              "3     0.594055  0.605536  0.356244  ...         0.808065   0.601015         0.0\n",
              "4     0.649445  0.484851  0.289922  ...         0.253606   0.496327         0.0\n",
              "...        ...       ...       ...  ...              ...        ...         ...\n",
              "3271  0.333436  0.530482  0.775947  ...         0.535037   0.564534         1.0\n",
              "3272  0.557775  0.530016  0.279263  ...        66.622485   0.254915         1.0\n",
              "3273  0.672822  0.465486  0.539101  ...         0.560655   0.349570         1.0\n",
              "3274  0.366197  0.664407  0.191490  ...         0.622659   0.616120         1.0\n",
              "3275  0.562477  0.535635  0.280484  ...         0.632478   0.162441         1.0\n",
              "\n",
              "[3276 rows x 10 columns]"
            ]
          },
          "metadata": {
            "tags": []
          },
          "execution_count": 9
        }
      ]
    },
    {
      "cell_type": "code",
      "metadata": {
        "colab": {
          "base_uri": "https://localhost:8080/",
          "height": 243
        },
        "id": "2MnMuuUbuGmr",
        "outputId": "e2840912-1151-428f-d2ab-2a001783db2d"
      },
      "source": [
        "for i in range(df_n.shape[1]):\n",
        "  sns.boxplot(x=df.iloc[:,i])"
      ],
      "execution_count": 11,
      "outputs": [
        {
          "output_type": "display_data",
          "data": {
            "image/png": "[encoded data removed]",
            "text/plain": [
              "<Figure size 432x288 with 1 Axes>"
            ]
          },
          "metadata": {
            "tags": [],
            "needs_background": "light"
          }
        }
      ]
    },
    {
      "cell_type": "code",
      "metadata": {
        "colab": {
          "base_uri": "https://localhost:8080/"
        },
        "id": "yFMAJtXSvOhp",
        "outputId": "1f293983-1f88-4825-e2c5-8f4c49de161c"
      },
      "source": [
        "from scipy import stats\n",
        "df_z=np.abs(stats.zscore(df_n))\n",
        "df_z"
      ],
      "execution_count": 12,
      "outputs": [
        {
          "output_type": "execute_result",
          "data": {
            "text/plain": [
              "array([[2.37920547, 0.25919471, 0.13947087, ..., 0.21641662, 1.28629758,\n",
              "        0.79977474],\n",
              "       [0.52244714, 2.03641367, 0.38598665, ..., 0.23377643, 0.68421789,\n",
              "        0.79977474],\n",
              "       [0.38828807, 0.84766483, 0.24004734, ..., 0.22806321, 1.16736546,\n",
              "        0.79977474],\n",
              "       ...,\n",
              "       [0.34787283, 0.62682923, 1.27080989, ..., 0.22612391, 0.85600678,\n",
              "        1.25035206],\n",
              "       [0.47926804, 1.0413545 , 1.14405809, ..., 0.22179679, 0.95079738,\n",
              "        1.25035206],\n",
              "       [0.39515827, 0.03854623, 0.52581194, ..., 0.22111159, 2.12445866,\n",
              "        1.25035206]])"
            ]
          },
          "metadata": {
            "tags": []
          },
          "execution_count": 12
        }
      ]
    },
    {
      "cell_type": "code",
      "metadata": {
        "colab": {
          "base_uri": "https://localhost:8080/",
          "height": 438
        },
        "id": "Y4u49QQMxb8P",
        "outputId": "5fe57013-aa3a-4bc5-f960-4d237f123585"
      },
      "source": [
        " \n",
        " \n",
        "df_N=df_n[(df_z<3).all(axis=1)]\n",
        "df_N"
      ],
      "execution_count": 13,
      "outputs": [
        {
          "output_type": "execute_result",
          "data": {
            "text/html": [
              "<div>\n",
              "<style scoped>\n",
              "    .dataframe tbody tr th:only-of-type {\n",
              "        vertical-align: middle;\n",
              "    }\n",
              "\n",
              "    .dataframe tbody tr th {\n",
              "        vertical-align: top;\n",
              "    }\n",
              "\n",
              "    .dataframe thead th {\n",
              "        text-align: right;\n",
              "    }\n",
              "</style>\n",
              "<table border=\"1\" class=\"dataframe\">\n",
              "  <thead>\n",
              "    <tr style=\"text-align: right;\">\n",
              "      <th></th>\n",
              "      <th>ph</th>\n",
              "      <th>Hardness</th>\n",
              "      <th>Solids</th>\n",
              "      <th>Chloramines</th>\n",
              "      <th>Sulfate</th>\n",
              "      <th>Conductivity</th>\n",
              "      <th>Organic_carbon</th>\n",
              "      <th>Trihalomethanes</th>\n",
              "      <th>Turbidity</th>\n",
              "      <th>Potability</th>\n",
              "    </tr>\n",
              "  </thead>\n",
              "  <tbody>\n",
              "    <tr>\n",
              "      <th>0</th>\n",
              "      <td>7.036752</td>\n",
              "      <td>0.571139</td>\n",
              "      <td>0.336096</td>\n",
              "      <td>0.543891</td>\n",
              "      <td>0.680385</td>\n",
              "      <td>0.669439</td>\n",
              "      <td>0.313402</td>\n",
              "      <td>0.699753</td>\n",
              "      <td>0.286091</td>\n",
              "      <td>0.0</td>\n",
              "    </tr>\n",
              "    <tr>\n",
              "      <th>1</th>\n",
              "      <td>0.265434</td>\n",
              "      <td>0.297400</td>\n",
              "      <td>0.300611</td>\n",
              "      <td>0.491839</td>\n",
              "      <td>333.073546</td>\n",
              "      <td>0.719411</td>\n",
              "      <td>0.497319</td>\n",
              "      <td>0.450999</td>\n",
              "      <td>0.576793</td>\n",
              "      <td>0.0</td>\n",
              "    </tr>\n",
              "    <tr>\n",
              "      <th>2</th>\n",
              "      <td>0.578509</td>\n",
              "      <td>0.641311</td>\n",
              "      <td>0.321619</td>\n",
              "      <td>0.698543</td>\n",
              "      <td>333.073546</td>\n",
              "      <td>0.414652</td>\n",
              "      <td>0.562017</td>\n",
              "      <td>0.532866</td>\n",
              "      <td>0.303637</td>\n",
              "      <td>0.0</td>\n",
              "    </tr>\n",
              "    <tr>\n",
              "      <th>3</th>\n",
              "      <td>0.594055</td>\n",
              "      <td>0.605536</td>\n",
              "      <td>0.356244</td>\n",
              "      <td>0.603314</td>\n",
              "      <td>0.647347</td>\n",
              "      <td>0.317880</td>\n",
              "      <td>0.622089</td>\n",
              "      <td>0.808065</td>\n",
              "      <td>0.601015</td>\n",
              "      <td>0.0</td>\n",
              "    </tr>\n",
              "    <tr>\n",
              "      <th>4</th>\n",
              "      <td>0.649445</td>\n",
              "      <td>0.484851</td>\n",
              "      <td>0.289922</td>\n",
              "      <td>0.484900</td>\n",
              "      <td>0.514545</td>\n",
              "      <td>0.379337</td>\n",
              "      <td>0.358555</td>\n",
              "      <td>0.253606</td>\n",
              "      <td>0.496327</td>\n",
              "      <td>0.0</td>\n",
              "    </tr>\n",
              "    <tr>\n",
              "      <th>...</th>\n",
              "      <td>...</td>\n",
              "      <td>...</td>\n",
              "      <td>...</td>\n",
              "      <td>...</td>\n",
              "      <td>...</td>\n",
              "      <td>...</td>\n",
              "      <td>...</td>\n",
              "      <td>...</td>\n",
              "      <td>...</td>\n",
              "      <td>...</td>\n",
              "    </tr>\n",
              "    <tr>\n",
              "      <th>3270</th>\n",
              "      <td>0.433544</td>\n",
              "      <td>0.505009</td>\n",
              "      <td>0.423895</td>\n",
              "      <td>0.578908</td>\n",
              "      <td>0.615572</td>\n",
              "      <td>0.409897</td>\n",
              "      <td>0.378070</td>\n",
              "      <td>0.484188</td>\n",
              "      <td>0.419685</td>\n",
              "      <td>1.0</td>\n",
              "    </tr>\n",
              "    <tr>\n",
              "      <th>3271</th>\n",
              "      <td>0.333436</td>\n",
              "      <td>0.530482</td>\n",
              "      <td>0.775947</td>\n",
              "      <td>0.533436</td>\n",
              "      <td>0.656047</td>\n",
              "      <td>0.603192</td>\n",
              "      <td>0.448062</td>\n",
              "      <td>0.535037</td>\n",
              "      <td>0.564534</td>\n",
              "      <td>1.0</td>\n",
              "    </tr>\n",
              "    <tr>\n",
              "      <th>3273</th>\n",
              "      <td>0.672822</td>\n",
              "      <td>0.465486</td>\n",
              "      <td>0.539101</td>\n",
              "      <td>0.547807</td>\n",
              "      <td>333.073546</td>\n",
              "      <td>0.438152</td>\n",
              "      <td>0.338662</td>\n",
              "      <td>0.560655</td>\n",
              "      <td>0.349570</td>\n",
              "      <td>1.0</td>\n",
              "    </tr>\n",
              "    <tr>\n",
              "      <th>3274</th>\n",
              "      <td>0.366197</td>\n",
              "      <td>0.664407</td>\n",
              "      <td>0.191490</td>\n",
              "      <td>0.465860</td>\n",
              "      <td>333.073546</td>\n",
              "      <td>0.387157</td>\n",
              "      <td>0.343638</td>\n",
              "      <td>0.622659</td>\n",
              "      <td>0.616120</td>\n",
              "      <td>1.0</td>\n",
              "    </tr>\n",
              "    <tr>\n",
              "      <th>3275</th>\n",
              "      <td>0.562477</td>\n",
              "      <td>0.535635</td>\n",
              "      <td>0.280484</td>\n",
              "      <td>0.560259</td>\n",
              "      <td>333.073546</td>\n",
              "      <td>0.255266</td>\n",
              "      <td>0.534114</td>\n",
              "      <td>0.632478</td>\n",
              "      <td>0.162441</td>\n",
              "      <td>1.0</td>\n",
              "    </tr>\n",
              "  </tbody>\n",
              "</table>\n",
              "<p>3041 rows × 10 columns</p>\n",
              "</div>"
            ],
            "text/plain": [
              "            ph  Hardness    Solids  ...  Trihalomethanes  Turbidity  Potability\n",
              "0     7.036752  0.571139  0.336096  ...         0.699753   0.286091         0.0\n",
              "1     0.265434  0.297400  0.300611  ...         0.450999   0.576793         0.0\n",
              "2     0.578509  0.641311  0.321619  ...         0.532866   0.303637         0.0\n",
              "3     0.594055  0.605536  0.356244  ...         0.808065   0.601015         0.0\n",
              "4     0.649445  0.484851  0.289922  ...         0.253606   0.496327         0.0\n",
              "...        ...       ...       ...  ...              ...        ...         ...\n",
              "3270  0.433544  0.505009  0.423895  ...         0.484188   0.419685         1.0\n",
              "3271  0.333436  0.530482  0.775947  ...         0.535037   0.564534         1.0\n",
              "3273  0.672822  0.465486  0.539101  ...         0.560655   0.349570         1.0\n",
              "3274  0.366197  0.664407  0.191490  ...         0.622659   0.616120         1.0\n",
              "3275  0.562477  0.535635  0.280484  ...         0.632478   0.162441         1.0\n",
              "\n",
              "[3041 rows x 10 columns]"
            ]
          },
          "metadata": {
            "tags": []
          },
          "execution_count": 13
        }
      ]
    },
    {
      "cell_type": "code",
      "metadata": {
        "colab": {
          "base_uri": "https://localhost:8080/",
          "height": 293
        },
        "id": "-ZcrIwQhx6Ap",
        "outputId": "e458cd8e-52e9-40da-808b-d74079d22b56"
      },
      "source": [
        "corr=df_N.corr()\n",
        "plt.figure(figsize=(10,7))\n",
        "sns.heatmap(corr,annot=True)"
      ],
      "execution_count": 16,
      "outputs": [
        {
          "output_type": "execute_result",
          "data": {
            "text/plain": [
              "<matplotlib.axes._subplots.AxesSubplot at 0x7fde505eaed0>"
            ]
          },
          "metadata": {
            "tags": []
          },
          "execution_count": 16
        },
        {
          "output_type": "display_data",
          "data": {
            "image/png": "[encoded data removed]",
            "text/plain": [
              "<Figure size 720x504 with 2 Axes>"
            ]
          },
          "metadata": {
            "tags": [],
            "needs_background": "light"
          }
        }
      ]
    },
    {
      "cell_type": "code",
      "metadata": {
        "colab": {
          "base_uri": "https://localhost:8080/",
          "height": 472
        },
        "id": "pudEnlmsyeld",
        "outputId": "571919c0-0a4b-45af-825b-f5fdd1cf184e"
      },
      "source": [
        "import statsmodels.api as sm\n",
        "W=sm.tools.add_constant(df_N)\n",
        "W"
      ],
      "execution_count": 17,
      "outputs": [
        {
          "output_type": "stream",
          "text": [
            "/usr/local/lib/python3.7/dist-packages/statsmodels/tools/_testing.py:19: FutureWarning: pandas.util.testing is deprecated. Use the functions in the public API at pandas.testing instead.\n",
            "  import pandas.util.testing as tm\n"
          ],
          "name": "stderr"
        },
        {
          "output_type": "execute_result",
          "data": {
            "text/html": [
              "<div>\n",
              "<style scoped>\n",
              "    .dataframe tbody tr th:only-of-type {\n",
              "        vertical-align: middle;\n",
              "    }\n",
              "\n",
              "    .dataframe tbody tr th {\n",
              "        vertical-align: top;\n",
              "    }\n",
              "\n",
              "    .dataframe thead th {\n",
              "        text-align: right;\n",
              "    }\n",
              "</style>\n",
              "<table border=\"1\" class=\"dataframe\">\n",
              "  <thead>\n",
              "    <tr style=\"text-align: right;\">\n",
              "      <th></th>\n",
              "      <th>const</th>\n",
              "      <th>ph</th>\n",
              "      <th>Hardness</th>\n",
              "      <th>Solids</th>\n",
              "      <th>Chloramines</th>\n",
              "      <th>Sulfate</th>\n",
              "      <th>Conductivity</th>\n",
              "      <th>Organic_carbon</th>\n",
              "      <th>Trihalomethanes</th>\n",
              "      <th>Turbidity</th>\n",
              "      <th>Potability</th>\n",
              "    </tr>\n",
              "  </thead>\n",
              "  <tbody>\n",
              "    <tr>\n",
              "      <th>0</th>\n",
              "      <td>1.0</td>\n",
              "      <td>7.036752</td>\n",
              "      <td>0.571139</td>\n",
              "      <td>0.336096</td>\n",
              "      <td>0.543891</td>\n",
              "      <td>0.680385</td>\n",
              "      <td>0.669439</td>\n",
              "      <td>0.313402</td>\n",
              "      <td>0.699753</td>\n",
              "      <td>0.286091</td>\n",
              "      <td>0.0</td>\n",
              "    </tr>\n",
              "    <tr>\n",
              "      <th>1</th>\n",
              "      <td>1.0</td>\n",
              "      <td>0.265434</td>\n",
              "      <td>0.297400</td>\n",
              "      <td>0.300611</td>\n",
              "      <td>0.491839</td>\n",
              "      <td>333.073546</td>\n",
              "      <td>0.719411</td>\n",
              "      <td>0.497319</td>\n",
              "      <td>0.450999</td>\n",
              "      <td>0.576793</td>\n",
              "      <td>0.0</td>\n",
              "    </tr>\n",
              "    <tr>\n",
              "      <th>2</th>\n",
              "      <td>1.0</td>\n",
              "      <td>0.578509</td>\n",
              "      <td>0.641311</td>\n",
              "      <td>0.321619</td>\n",
              "      <td>0.698543</td>\n",
              "      <td>333.073546</td>\n",
              "      <td>0.414652</td>\n",
              "      <td>0.562017</td>\n",
              "      <td>0.532866</td>\n",
              "      <td>0.303637</td>\n",
              "      <td>0.0</td>\n",
              "    </tr>\n",
              "    <tr>\n",
              "      <th>3</th>\n",
              "      <td>1.0</td>\n",
              "      <td>0.594055</td>\n",
              "      <td>0.605536</td>\n",
              "      <td>0.356244</td>\n",
              "      <td>0.603314</td>\n",
              "      <td>0.647347</td>\n",
              "      <td>0.317880</td>\n",
              "      <td>0.622089</td>\n",
              "      <td>0.808065</td>\n",
              "      <td>0.601015</td>\n",
              "      <td>0.0</td>\n",
              "    </tr>\n",
              "    <tr>\n",
              "      <th>4</th>\n",
              "      <td>1.0</td>\n",
              "      <td>0.649445</td>\n",
              "      <td>0.484851</td>\n",
              "      <td>0.289922</td>\n",
              "      <td>0.484900</td>\n",
              "      <td>0.514545</td>\n",
              "      <td>0.379337</td>\n",
              "      <td>0.358555</td>\n",
              "      <td>0.253606</td>\n",
              "      <td>0.496327</td>\n",
              "      <td>0.0</td>\n",
              "    </tr>\n",
              "    <tr>\n",
              "      <th>...</th>\n",
              "      <td>...</td>\n",
              "      <td>...</td>\n",
              "      <td>...</td>\n",
              "      <td>...</td>\n",
              "      <td>...</td>\n",
              "      <td>...</td>\n",
              "      <td>...</td>\n",
              "      <td>...</td>\n",
              "      <td>...</td>\n",
              "      <td>...</td>\n",
              "      <td>...</td>\n",
              "    </tr>\n",
              "    <tr>\n",
              "      <th>3270</th>\n",
              "      <td>1.0</td>\n",
              "      <td>0.433544</td>\n",
              "      <td>0.505009</td>\n",
              "      <td>0.423895</td>\n",
              "      <td>0.578908</td>\n",
              "      <td>0.615572</td>\n",
              "      <td>0.409897</td>\n",
              "      <td>0.378070</td>\n",
              "      <td>0.484188</td>\n",
              "      <td>0.419685</td>\n",
              "      <td>1.0</td>\n",
              "    </tr>\n",
              "    <tr>\n",
              "      <th>3271</th>\n",
              "      <td>1.0</td>\n",
              "      <td>0.333436</td>\n",
              "      <td>0.530482</td>\n",
              "      <td>0.775947</td>\n",
              "      <td>0.533436</td>\n",
              "      <td>0.656047</td>\n",
              "      <td>0.603192</td>\n",
              "      <td>0.448062</td>\n",
              "      <td>0.535037</td>\n",
              "      <td>0.564534</td>\n",
              "      <td>1.0</td>\n",
              "    </tr>\n",
              "    <tr>\n",
              "      <th>3273</th>\n",
              "      <td>1.0</td>\n",
              "      <td>0.672822</td>\n",
              "      <td>0.465486</td>\n",
              "      <td>0.539101</td>\n",
              "      <td>0.547807</td>\n",
              "      <td>333.073546</td>\n",
              "      <td>0.438152</td>\n",
              "      <td>0.338662</td>\n",
              "      <td>0.560655</td>\n",
              "      <td>0.349570</td>\n",
              "      <td>1.0</td>\n",
              "    </tr>\n",
              "    <tr>\n",
              "      <th>3274</th>\n",
              "      <td>1.0</td>\n",
              "      <td>0.366197</td>\n",
              "      <td>0.664407</td>\n",
              "      <td>0.191490</td>\n",
              "      <td>0.465860</td>\n",
              "      <td>333.073546</td>\n",
              "      <td>0.387157</td>\n",
              "      <td>0.343638</td>\n",
              "      <td>0.622659</td>\n",
              "      <td>0.616120</td>\n",
              "      <td>1.0</td>\n",
              "    </tr>\n",
              "    <tr>\n",
              "      <th>3275</th>\n",
              "      <td>1.0</td>\n",
              "      <td>0.562477</td>\n",
              "      <td>0.535635</td>\n",
              "      <td>0.280484</td>\n",
              "      <td>0.560259</td>\n",
              "      <td>333.073546</td>\n",
              "      <td>0.255266</td>\n",
              "      <td>0.534114</td>\n",
              "      <td>0.632478</td>\n",
              "      <td>0.162441</td>\n",
              "      <td>1.0</td>\n",
              "    </tr>\n",
              "  </tbody>\n",
              "</table>\n",
              "<p>3041 rows × 11 columns</p>\n",
              "</div>"
            ],
            "text/plain": [
              "      const        ph  Hardness  ...  Trihalomethanes  Turbidity  Potability\n",
              "0       1.0  7.036752  0.571139  ...         0.699753   0.286091         0.0\n",
              "1       1.0  0.265434  0.297400  ...         0.450999   0.576793         0.0\n",
              "2       1.0  0.578509  0.641311  ...         0.532866   0.303637         0.0\n",
              "3       1.0  0.594055  0.605536  ...         0.808065   0.601015         0.0\n",
              "4       1.0  0.649445  0.484851  ...         0.253606   0.496327         0.0\n",
              "...     ...       ...       ...  ...              ...        ...         ...\n",
              "3270    1.0  0.433544  0.505009  ...         0.484188   0.419685         1.0\n",
              "3271    1.0  0.333436  0.530482  ...         0.535037   0.564534         1.0\n",
              "3273    1.0  0.672822  0.465486  ...         0.560655   0.349570         1.0\n",
              "3274    1.0  0.366197  0.664407  ...         0.622659   0.616120         1.0\n",
              "3275    1.0  0.562477  0.535635  ...         0.632478   0.162441         1.0\n",
              "\n",
              "[3041 rows x 11 columns]"
            ]
          },
          "metadata": {
            "tags": []
          },
          "execution_count": 17
        }
      ]
    },
    {
      "cell_type": "code",
      "metadata": {
        "colab": {
          "base_uri": "https://localhost:8080/"
        },
        "id": "rCza_GU30toa",
        "outputId": "e4c6c93d-4d2d-4c3b-f5d5-a8d6817ac941"
      },
      "source": [
        " from statsmodels.stats.outliers_influence import variance_inflation_factor\n",
        "Df=[variance_inflation_factor(W.values,i) for i in range(W.shape[1])]\n",
        "Df"
      ],
      "execution_count": 18,
      "outputs": [
        {
          "output_type": "execute_result",
          "data": {
            "text/plain": [
              "[107.55779547702349,\n",
              " 1.002056030547871,\n",
              " 1.0045854370015654,\n",
              " 1.009315880234997,\n",
              " 1.0081365517765448,\n",
              " 1.0018953046373098,\n",
              " 1.0030120395221056,\n",
              " 1.0037265512506497,\n",
              " 1.002203935364539,\n",
              " 1.0020442576774429,\n",
              " 1.0023147233672507]"
            ]
          },
          "metadata": {
            "tags": []
          },
          "execution_count": 18
        }
      ]
    },
    {
      "cell_type": "code",
      "metadata": {
        "colab": {
          "base_uri": "https://localhost:8080/",
          "height": 438
        },
        "id": "4Rvuc8Fg22Yo",
        "outputId": "9d62bef6-e470-46ec-fed0-6a7cda1274e9"
      },
      "source": [
        "df_N"
      ],
      "execution_count": 19,
      "outputs": [
        {
          "output_type": "execute_result",
          "data": {
            "text/html": [
              "<div>\n",
              "<style scoped>\n",
              "    .dataframe tbody tr th:only-of-type {\n",
              "        vertical-align: middle;\n",
              "    }\n",
              "\n",
              "    .dataframe tbody tr th {\n",
              "        vertical-align: top;\n",
              "    }\n",
              "\n",
              "    .dataframe thead th {\n",
              "        text-align: right;\n",
              "    }\n",
              "</style>\n",
              "<table border=\"1\" class=\"dataframe\">\n",
              "  <thead>\n",
              "    <tr style=\"text-align: right;\">\n",
              "      <th></th>\n",
              "      <th>ph</th>\n",
              "      <th>Hardness</th>\n",
              "      <th>Solids</th>\n",
              "      <th>Chloramines</th>\n",
              "      <th>Sulfate</th>\n",
              "      <th>Conductivity</th>\n",
              "      <th>Organic_carbon</th>\n",
              "      <th>Trihalomethanes</th>\n",
              "      <th>Turbidity</th>\n",
              "      <th>Potability</th>\n",
              "    </tr>\n",
              "  </thead>\n",
              "  <tbody>\n",
              "    <tr>\n",
              "      <th>0</th>\n",
              "      <td>7.036752</td>\n",
              "      <td>0.571139</td>\n",
              "      <td>0.336096</td>\n",
              "      <td>0.543891</td>\n",
              "      <td>0.680385</td>\n",
              "      <td>0.669439</td>\n",
              "      <td>0.313402</td>\n",
              "      <td>0.699753</td>\n",
              "      <td>0.286091</td>\n",
              "      <td>0.0</td>\n",
              "    </tr>\n",
              "    <tr>\n",
              "      <th>1</th>\n",
              "      <td>0.265434</td>\n",
              "      <td>0.297400</td>\n",
              "      <td>0.300611</td>\n",
              "      <td>0.491839</td>\n",
              "      <td>333.073546</td>\n",
              "      <td>0.719411</td>\n",
              "      <td>0.497319</td>\n",
              "      <td>0.450999</td>\n",
              "      <td>0.576793</td>\n",
              "      <td>0.0</td>\n",
              "    </tr>\n",
              "    <tr>\n",
              "      <th>2</th>\n",
              "      <td>0.578509</td>\n",
              "      <td>0.641311</td>\n",
              "      <td>0.321619</td>\n",
              "      <td>0.698543</td>\n",
              "      <td>333.073546</td>\n",
              "      <td>0.414652</td>\n",
              "      <td>0.562017</td>\n",
              "      <td>0.532866</td>\n",
              "      <td>0.303637</td>\n",
              "      <td>0.0</td>\n",
              "    </tr>\n",
              "    <tr>\n",
              "      <th>3</th>\n",
              "      <td>0.594055</td>\n",
              "      <td>0.605536</td>\n",
              "      <td>0.356244</td>\n",
              "      <td>0.603314</td>\n",
              "      <td>0.647347</td>\n",
              "      <td>0.317880</td>\n",
              "      <td>0.622089</td>\n",
              "      <td>0.808065</td>\n",
              "      <td>0.601015</td>\n",
              "      <td>0.0</td>\n",
              "    </tr>\n",
              "    <tr>\n",
              "      <th>4</th>\n",
              "      <td>0.649445</td>\n",
              "      <td>0.484851</td>\n",
              "      <td>0.289922</td>\n",
              "      <td>0.484900</td>\n",
              "      <td>0.514545</td>\n",
              "      <td>0.379337</td>\n",
              "      <td>0.358555</td>\n",
              "      <td>0.253606</td>\n",
              "      <td>0.496327</td>\n",
              "      <td>0.0</td>\n",
              "    </tr>\n",
              "    <tr>\n",
              "      <th>...</th>\n",
              "      <td>...</td>\n",
              "      <td>...</td>\n",
              "      <td>...</td>\n",
              "      <td>...</td>\n",
              "      <td>...</td>\n",
              "      <td>...</td>\n",
              "      <td>...</td>\n",
              "      <td>...</td>\n",
              "      <td>...</td>\n",
              "      <td>...</td>\n",
              "    </tr>\n",
              "    <tr>\n",
              "      <th>3270</th>\n",
              "      <td>0.433544</td>\n",
              "      <td>0.505009</td>\n",
              "      <td>0.423895</td>\n",
              "      <td>0.578908</td>\n",
              "      <td>0.615572</td>\n",
              "      <td>0.409897</td>\n",
              "      <td>0.378070</td>\n",
              "      <td>0.484188</td>\n",
              "      <td>0.419685</td>\n",
              "      <td>1.0</td>\n",
              "    </tr>\n",
              "    <tr>\n",
              "      <th>3271</th>\n",
              "      <td>0.333436</td>\n",
              "      <td>0.530482</td>\n",
              "      <td>0.775947</td>\n",
              "      <td>0.533436</td>\n",
              "      <td>0.656047</td>\n",
              "      <td>0.603192</td>\n",
              "      <td>0.448062</td>\n",
              "      <td>0.535037</td>\n",
              "      <td>0.564534</td>\n",
              "      <td>1.0</td>\n",
              "    </tr>\n",
              "    <tr>\n",
              "      <th>3273</th>\n",
              "      <td>0.672822</td>\n",
              "      <td>0.465486</td>\n",
              "      <td>0.539101</td>\n",
              "      <td>0.547807</td>\n",
              "      <td>333.073546</td>\n",
              "      <td>0.438152</td>\n",
              "      <td>0.338662</td>\n",
              "      <td>0.560655</td>\n",
              "      <td>0.349570</td>\n",
              "      <td>1.0</td>\n",
              "    </tr>\n",
              "    <tr>\n",
              "      <th>3274</th>\n",
              "      <td>0.366197</td>\n",
              "      <td>0.664407</td>\n",
              "      <td>0.191490</td>\n",
              "      <td>0.465860</td>\n",
              "      <td>333.073546</td>\n",
              "      <td>0.387157</td>\n",
              "      <td>0.343638</td>\n",
              "      <td>0.622659</td>\n",
              "      <td>0.616120</td>\n",
              "      <td>1.0</td>\n",
              "    </tr>\n",
              "    <tr>\n",
              "      <th>3275</th>\n",
              "      <td>0.562477</td>\n",
              "      <td>0.535635</td>\n",
              "      <td>0.280484</td>\n",
              "      <td>0.560259</td>\n",
              "      <td>333.073546</td>\n",
              "      <td>0.255266</td>\n",
              "      <td>0.534114</td>\n",
              "      <td>0.632478</td>\n",
              "      <td>0.162441</td>\n",
              "      <td>1.0</td>\n",
              "    </tr>\n",
              "  </tbody>\n",
              "</table>\n",
              "<p>3041 rows × 10 columns</p>\n",
              "</div>"
            ],
            "text/plain": [
              "            ph  Hardness    Solids  ...  Trihalomethanes  Turbidity  Potability\n",
              "0     7.036752  0.571139  0.336096  ...         0.699753   0.286091         0.0\n",
              "1     0.265434  0.297400  0.300611  ...         0.450999   0.576793         0.0\n",
              "2     0.578509  0.641311  0.321619  ...         0.532866   0.303637         0.0\n",
              "3     0.594055  0.605536  0.356244  ...         0.808065   0.601015         0.0\n",
              "4     0.649445  0.484851  0.289922  ...         0.253606   0.496327         0.0\n",
              "...        ...       ...       ...  ...              ...        ...         ...\n",
              "3270  0.433544  0.505009  0.423895  ...         0.484188   0.419685         1.0\n",
              "3271  0.333436  0.530482  0.775947  ...         0.535037   0.564534         1.0\n",
              "3273  0.672822  0.465486  0.539101  ...         0.560655   0.349570         1.0\n",
              "3274  0.366197  0.664407  0.191490  ...         0.622659   0.616120         1.0\n",
              "3275  0.562477  0.535635  0.280484  ...         0.632478   0.162441         1.0\n",
              "\n",
              "[3041 rows x 10 columns]"
            ]
          },
          "metadata": {
            "tags": []
          },
          "execution_count": 19
        }
      ]
    },
    {
      "cell_type": "code",
      "metadata": {
        "id": "TxVdrXMZ1OIm"
      },
      "source": [
        "lg=LogisticRegression ()\n",
        "Y=df_N['Potability']\n",
        "X=df_N.drop('Potability',axis=1)\n",
        "X_train,X_test,y_train,y_test=train_test_split(df_N,Y,test_size=0.2,random_state=0)"
      ],
      "execution_count": 20,
      "outputs": []
    },
    {
      "cell_type": "code",
      "metadata": {
        "colab": {
          "base_uri": "https://localhost:8080/"
        },
        "id": "wWbRIJSX2WW6",
        "outputId": "52f39439-7aa7-4f6b-8844-75b3fd5c2519"
      },
      "source": [
        "lg.fit(X_train,y_train)"
      ],
      "execution_count": 21,
      "outputs": [
        {
          "output_type": "execute_result",
          "data": {
            "text/plain": [
              "LogisticRegression(C=1.0, class_weight=None, dual=False, fit_intercept=True,\n",
              "                   intercept_scaling=1, l1_ratio=None, max_iter=100,\n",
              "                   multi_class='auto', n_jobs=None, penalty='l2',\n",
              "                   random_state=None, solver='lbfgs', tol=0.0001, verbose=0,\n",
              "                   warm_start=False)"
            ]
          },
          "metadata": {
            "tags": []
          },
          "execution_count": 21
        }
      ]
    },
    {
      "cell_type": "code",
      "metadata": {
        "colab": {
          "base_uri": "https://localhost:8080/"
        },
        "id": "VfJUl_Pm2a7K",
        "outputId": "80c7076b-1b27-42af-b1fb-b33c7c2a1460"
      },
      "source": [
        "yp=lg.predict(X_test)\n",
        "from sklearn.metrics import accuracy_score\n",
        "accuracy_score(yp,y_test)"
      ],
      "execution_count": 22,
      "outputs": [
        {
          "output_type": "execute_result",
          "data": {
            "text/plain": [
              "1.0"
            ]
          },
          "metadata": {
            "tags": []
          },
          "execution_count": 22
        }
      ]
    },
    {
      "cell_type": "code",
      "metadata": {
        "colab": {
          "base_uri": "https://localhost:8080/"
        },
        "id": "b_CIt9lc3L_K",
        "outputId": "6352e614-38ba-40e1-cd6d-7a0116975877"
      },
      "source": [
        "from sklearn.naive_bayes import GaussianNB\n",
        "gn=GaussianNB()\n",
        "gn.fit(X_train,y_train)\n",
        "yp1=gn.predict(X_test)\n",
        "accuracy_score(yp1,y_test)"
      ],
      "execution_count": 23,
      "outputs": [
        {
          "output_type": "execute_result",
          "data": {
            "text/plain": [
              "1.0"
            ]
          },
          "metadata": {
            "tags": []
          },
          "execution_count": 23
        }
      ]
    },
    {
      "cell_type": "code",
      "metadata": {
        "colab": {
          "base_uri": "https://localhost:8080/"
        },
        "id": "44XyYytJ3k-5",
        "outputId": "3f794fdd-e638-42cb-85fb-54683c734eea"
      },
      "source": [
        "gn.predict(df_N.iloc[3040:3041,:])"
      ],
      "execution_count": 24,
      "outputs": [
        {
          "output_type": "execute_result",
          "data": {
            "text/plain": [
              "array([1.])"
            ]
          },
          "metadata": {
            "tags": []
          },
          "execution_count": 24
        }
      ]
    }
  ]
}